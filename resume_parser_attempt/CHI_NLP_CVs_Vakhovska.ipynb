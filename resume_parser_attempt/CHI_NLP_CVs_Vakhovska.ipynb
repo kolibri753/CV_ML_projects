{
  "nbformat": 4,
  "nbformat_minor": 0,
  "metadata": {
    "colab": {
      "provenance": []
    },
    "kernelspec": {
      "name": "python3",
      "display_name": "Python 3"
    },
    "language_info": {
      "name": "python"
    },
    "accelerator": "GPU",
    "gpuClass": "standard"
  },
  "cells": [
    {
      "cell_type": "markdown",
      "source": [
        "# Test Task: Parsing Resumes in Ukrainian\n",
        "**Objective**: develop a program capable of automatically parsing resumes in Ukrainian to extract key data in a structured format. This task aims to assess skills in processing natural language texts, data extraction, and developing basic NLP solutions.\n",
        "\n",
        "### Requirements\n",
        "- **Input data**: 10-15 resumes in text format (TXT, PDF, or DOCX), all written in Ukrainian.\n",
        "- **Information to extract**: candidate’s name, contact details, work experience (position, company, dates, responsibilities), education (institution, specialization, graduation year), and skills.\n",
        "- **Execution steps**: use regular expressions, NLP libraries, or other text parsing methods.\n",
        "- **Program requirements**: it should generalize to various resumes and handle different data formats.\n",
        "- **Technologies**: python with libraries like `spaCy`, `re`, `pandas`, or `pdfplumber`."
      ],
      "metadata": {
        "id": "fHXsuAPpPitP"
      }
    },
    {
      "cell_type": "markdown",
      "source": [
        "# Theory\n",
        "\n",
        "**Scapy** is a powerful Python library for Natural Language Understanding (NLU) that offers fast processing, excellent optimization for CPUs, and a large supportive community. It allows the creation of custom pipelines with tools like Named Entity Recognition (NER) to identify key entities in text. Spacy also provides easy integration with many languages and is highly customizable for specific tasks, making it ideal for dialogue systems.\n",
        "\n",
        "Alternatives like **Stanza** and **Flair** also offer valuable features. **Stanza** supports over 60 languages, including Ukrainian, and provides detailed linguistic information, making it a great option for multilingual systems. **Flair**, while not as fast as Spacy, offers excellent flexibility for training custom models, particularly useful for classification tasks using PyTorch. Each tool has its strengths, so it’s best to experiment with them to find the right fit for your project."
      ],
      "metadata": {
        "id": "ae8AYWBfQfE5"
      }
    },
    {
      "cell_type": "markdown",
      "source": [
        "# Instructions\n",
        "\n",
        "1. Set the path to the folder containing the CVs (scroll to **Mount Google Drive and Set Paths**) you want to process. Make sure the folder is accessible from your Google Drive.\n",
        "2. Run the Script: execute the entire script to process the CVs in the specified folder.\n",
        "3. Check Results:\n",
        "To view the results, scroll to the \"**Test on one resume**\" section, or open the generated file:\n",
        "   1. For one CV: *resume_output.json*\n",
        "   2. For all CVs in the folder: `output.json`"
      ],
      "metadata": {
        "id": "Qs3Q_HR3SFrD"
      }
    },
    {
      "cell_type": "markdown",
      "source": [
        "# Table of Contents"
      ],
      "metadata": {
        "id": "nkrwVTlEOnT8"
      }
    },
    {
      "cell_type": "markdown",
      "source": [
        ">[Install Required Packages](#scrollTo=oABGql13C3yV)\n",
        "\n",
        ">[Mount Google Drive and Set Paths](#scrollTo=MW5gy_5HC-Gv)\n",
        "\n",
        ">[Read files (pdf, docx, txt)](#scrollTo=882K4jn5DDP4)\n",
        "\n",
        ">[Get name](#scrollTo=O9k44JF3DiLO)\n",
        "\n",
        ">[Get contact information (number, email)](#scrollTo=Z6oGEh9jDcD5)\n",
        "\n",
        ">[Get experience (position, company, dates of employment, key responsibilities)](#scrollTo=Za8eign_Drzg)\n",
        "\n",
        ">[Get education (institution, specialization, graduation year)](#scrollTo=murmAobTDxbP)\n",
        "\n",
        ">[Get skills (list of technical and soft skills)](#scrollTo=mRnjAd_1EEOG)\n",
        "\n",
        ">[Parse resume](#scrollTo=x4rNWhWjEMqk)\n",
        "\n",
        ">[Test on one resume](#scrollTo=IFzoJghzEmY5)\n",
        "\n",
        ">[Parse all resumes from the folder](#scrollTo=QOnskjoiExXX)\n",
        "\n",
        ">[Made by](#scrollTo=ZVm2qZ9cODRj)\n",
        "\n"
      ],
      "metadata": {
        "colab_type": "toc",
        "id": "13n0HHDqPDsT"
      }
    },
    {
      "cell_type": "markdown",
      "source": [
        "# Install Required Packages"
      ],
      "metadata": {
        "id": "oABGql13C3yV"
      }
    },
    {
      "cell_type": "code",
      "source": [
        "!pip install spacy pandas pdfplumber python-docx\n",
        "!python -m spacy download uk_core_news_lg\n",
        "\n",
        "import pdfplumber\n",
        "import docx\n",
        "import re\n",
        "import json\n",
        "import spacy\n",
        "import pandas as pd\n",
        "import os\n",
        "from spacy.matcher import Matcher\n",
        "from google.colab import drive"
      ],
      "metadata": {
        "colab": {
          "base_uri": "https://localhost:8080/"
        },
        "id": "P3ZIuVcnT8NV",
        "outputId": "e139ac9e-6b51-4586-81b6-82f018f366a9"
      },
      "execution_count": 1,
      "outputs": [
        {
          "output_type": "stream",
          "name": "stdout",
          "text": [
            "Requirement already satisfied: spacy in /usr/local/lib/python3.10/dist-packages (3.7.5)\n",
            "Requirement already satisfied: pandas in /usr/local/lib/python3.10/dist-packages (2.2.2)\n",
            "Requirement already satisfied: pdfplumber in /usr/local/lib/python3.10/dist-packages (0.11.4)\n",
            "Requirement already satisfied: python-docx in /usr/local/lib/python3.10/dist-packages (1.1.2)\n",
            "Requirement already satisfied: spacy-legacy<3.1.0,>=3.0.11 in /usr/local/lib/python3.10/dist-packages (from spacy) (3.0.12)\n",
            "Requirement already satisfied: spacy-loggers<2.0.0,>=1.0.0 in /usr/local/lib/python3.10/dist-packages (from spacy) (1.0.5)\n",
            "Requirement already satisfied: murmurhash<1.1.0,>=0.28.0 in /usr/local/lib/python3.10/dist-packages (from spacy) (1.0.10)\n",
            "Requirement already satisfied: cymem<2.1.0,>=2.0.2 in /usr/local/lib/python3.10/dist-packages (from spacy) (2.0.8)\n",
            "Requirement already satisfied: preshed<3.1.0,>=3.0.2 in /usr/local/lib/python3.10/dist-packages (from spacy) (3.0.9)\n",
            "Requirement already satisfied: thinc<8.3.0,>=8.2.2 in /usr/local/lib/python3.10/dist-packages (from spacy) (8.2.5)\n",
            "Requirement already satisfied: wasabi<1.2.0,>=0.9.1 in /usr/local/lib/python3.10/dist-packages (from spacy) (1.1.3)\n",
            "Requirement already satisfied: srsly<3.0.0,>=2.4.3 in /usr/local/lib/python3.10/dist-packages (from spacy) (2.4.8)\n",
            "Requirement already satisfied: catalogue<2.1.0,>=2.0.6 in /usr/local/lib/python3.10/dist-packages (from spacy) (2.0.10)\n",
            "Requirement already satisfied: weasel<0.5.0,>=0.1.0 in /usr/local/lib/python3.10/dist-packages (from spacy) (0.4.1)\n",
            "Requirement already satisfied: typer<1.0.0,>=0.3.0 in /usr/local/lib/python3.10/dist-packages (from spacy) (0.13.0)\n",
            "Requirement already satisfied: tqdm<5.0.0,>=4.38.0 in /usr/local/lib/python3.10/dist-packages (from spacy) (4.66.6)\n",
            "Requirement already satisfied: requests<3.0.0,>=2.13.0 in /usr/local/lib/python3.10/dist-packages (from spacy) (2.32.3)\n",
            "Requirement already satisfied: pydantic!=1.8,!=1.8.1,<3.0.0,>=1.7.4 in /usr/local/lib/python3.10/dist-packages (from spacy) (2.9.2)\n",
            "Requirement already satisfied: jinja2 in /usr/local/lib/python3.10/dist-packages (from spacy) (3.1.4)\n",
            "Requirement already satisfied: setuptools in /usr/local/lib/python3.10/dist-packages (from spacy) (75.1.0)\n",
            "Requirement already satisfied: packaging>=20.0 in /usr/local/lib/python3.10/dist-packages (from spacy) (24.2)\n",
            "Requirement already satisfied: langcodes<4.0.0,>=3.2.0 in /usr/local/lib/python3.10/dist-packages (from spacy) (3.4.1)\n",
            "Requirement already satisfied: numpy>=1.19.0 in /usr/local/lib/python3.10/dist-packages (from spacy) (1.26.4)\n",
            "Requirement already satisfied: python-dateutil>=2.8.2 in /usr/local/lib/python3.10/dist-packages (from pandas) (2.8.2)\n",
            "Requirement already satisfied: pytz>=2020.1 in /usr/local/lib/python3.10/dist-packages (from pandas) (2024.2)\n",
            "Requirement already satisfied: tzdata>=2022.7 in /usr/local/lib/python3.10/dist-packages (from pandas) (2024.2)\n",
            "Requirement already satisfied: pdfminer.six==20231228 in /usr/local/lib/python3.10/dist-packages (from pdfplumber) (20231228)\n",
            "Requirement already satisfied: Pillow>=9.1 in /usr/local/lib/python3.10/dist-packages (from pdfplumber) (11.0.0)\n",
            "Requirement already satisfied: pypdfium2>=4.18.0 in /usr/local/lib/python3.10/dist-packages (from pdfplumber) (4.30.0)\n",
            "Requirement already satisfied: charset-normalizer>=2.0.0 in /usr/local/lib/python3.10/dist-packages (from pdfminer.six==20231228->pdfplumber) (3.4.0)\n",
            "Requirement already satisfied: cryptography>=36.0.0 in /usr/local/lib/python3.10/dist-packages (from pdfminer.six==20231228->pdfplumber) (43.0.3)\n",
            "Requirement already satisfied: lxml>=3.1.0 in /usr/local/lib/python3.10/dist-packages (from python-docx) (5.3.0)\n",
            "Requirement already satisfied: typing-extensions>=4.9.0 in /usr/local/lib/python3.10/dist-packages (from python-docx) (4.12.2)\n",
            "Requirement already satisfied: language-data>=1.2 in /usr/local/lib/python3.10/dist-packages (from langcodes<4.0.0,>=3.2.0->spacy) (1.2.0)\n",
            "Requirement already satisfied: annotated-types>=0.6.0 in /usr/local/lib/python3.10/dist-packages (from pydantic!=1.8,!=1.8.1,<3.0.0,>=1.7.4->spacy) (0.7.0)\n",
            "Requirement already satisfied: pydantic-core==2.23.4 in /usr/local/lib/python3.10/dist-packages (from pydantic!=1.8,!=1.8.1,<3.0.0,>=1.7.4->spacy) (2.23.4)\n",
            "Requirement already satisfied: six>=1.5 in /usr/local/lib/python3.10/dist-packages (from python-dateutil>=2.8.2->pandas) (1.16.0)\n",
            "Requirement already satisfied: idna<4,>=2.5 in /usr/local/lib/python3.10/dist-packages (from requests<3.0.0,>=2.13.0->spacy) (3.10)\n",
            "Requirement already satisfied: urllib3<3,>=1.21.1 in /usr/local/lib/python3.10/dist-packages (from requests<3.0.0,>=2.13.0->spacy) (2.2.3)\n",
            "Requirement already satisfied: certifi>=2017.4.17 in /usr/local/lib/python3.10/dist-packages (from requests<3.0.0,>=2.13.0->spacy) (2024.8.30)\n",
            "Requirement already satisfied: blis<0.8.0,>=0.7.8 in /usr/local/lib/python3.10/dist-packages (from thinc<8.3.0,>=8.2.2->spacy) (0.7.11)\n",
            "Requirement already satisfied: confection<1.0.0,>=0.0.1 in /usr/local/lib/python3.10/dist-packages (from thinc<8.3.0,>=8.2.2->spacy) (0.1.5)\n",
            "Requirement already satisfied: click>=8.0.0 in /usr/local/lib/python3.10/dist-packages (from typer<1.0.0,>=0.3.0->spacy) (8.1.7)\n",
            "Requirement already satisfied: shellingham>=1.3.0 in /usr/local/lib/python3.10/dist-packages (from typer<1.0.0,>=0.3.0->spacy) (1.5.4)\n",
            "Requirement already satisfied: rich>=10.11.0 in /usr/local/lib/python3.10/dist-packages (from typer<1.0.0,>=0.3.0->spacy) (13.9.4)\n",
            "Requirement already satisfied: cloudpathlib<1.0.0,>=0.7.0 in /usr/local/lib/python3.10/dist-packages (from weasel<0.5.0,>=0.1.0->spacy) (0.20.0)\n",
            "Requirement already satisfied: smart-open<8.0.0,>=5.2.1 in /usr/local/lib/python3.10/dist-packages (from weasel<0.5.0,>=0.1.0->spacy) (7.0.5)\n",
            "Requirement already satisfied: MarkupSafe>=2.0 in /usr/local/lib/python3.10/dist-packages (from jinja2->spacy) (3.0.2)\n",
            "Requirement already satisfied: cffi>=1.12 in /usr/local/lib/python3.10/dist-packages (from cryptography>=36.0.0->pdfminer.six==20231228->pdfplumber) (1.17.1)\n",
            "Requirement already satisfied: marisa-trie>=0.7.7 in /usr/local/lib/python3.10/dist-packages (from language-data>=1.2->langcodes<4.0.0,>=3.2.0->spacy) (1.2.1)\n",
            "Requirement already satisfied: markdown-it-py>=2.2.0 in /usr/local/lib/python3.10/dist-packages (from rich>=10.11.0->typer<1.0.0,>=0.3.0->spacy) (3.0.0)\n",
            "Requirement already satisfied: pygments<3.0.0,>=2.13.0 in /usr/local/lib/python3.10/dist-packages (from rich>=10.11.0->typer<1.0.0,>=0.3.0->spacy) (2.18.0)\n",
            "Requirement already satisfied: wrapt in /usr/local/lib/python3.10/dist-packages (from smart-open<8.0.0,>=5.2.1->weasel<0.5.0,>=0.1.0->spacy) (1.16.0)\n",
            "Requirement already satisfied: pycparser in /usr/local/lib/python3.10/dist-packages (from cffi>=1.12->cryptography>=36.0.0->pdfminer.six==20231228->pdfplumber) (2.22)\n",
            "Requirement already satisfied: mdurl~=0.1 in /usr/local/lib/python3.10/dist-packages (from markdown-it-py>=2.2.0->rich>=10.11.0->typer<1.0.0,>=0.3.0->spacy) (0.1.2)\n",
            "Collecting uk-core-news-lg==3.7.0\n",
            "  Downloading https://github.com/explosion/spacy-models/releases/download/uk_core_news_lg-3.7.0/uk_core_news_lg-3.7.0-py3-none-any.whl (231.2 MB)\n",
            "\u001b[2K     \u001b[90m━━━━━━━━━━━━━━━━━━━━━━━━━━━━━━━━━━━━━━━━\u001b[0m \u001b[32m231.2/231.2 MB\u001b[0m \u001b[31m3.0 MB/s\u001b[0m eta \u001b[36m0:00:00\u001b[0m\n",
            "\u001b[?25hRequirement already satisfied: spacy<3.8.0,>=3.7.0 in /usr/local/lib/python3.10/dist-packages (from uk-core-news-lg==3.7.0) (3.7.5)\n",
            "Requirement already satisfied: pymorphy3>=1.0.0 in /usr/local/lib/python3.10/dist-packages (from uk-core-news-lg==3.7.0) (2.0.2)\n",
            "Requirement already satisfied: pymorphy3-dicts-uk in /usr/local/lib/python3.10/dist-packages (from uk-core-news-lg==3.7.0) (2.4.1.1.1663094765)\n",
            "Requirement already satisfied: dawg-python>=0.7.1 in /usr/local/lib/python3.10/dist-packages (from pymorphy3>=1.0.0->uk-core-news-lg==3.7.0) (0.7.2)\n",
            "Requirement already satisfied: pymorphy3-dicts-ru in /usr/local/lib/python3.10/dist-packages (from pymorphy3>=1.0.0->uk-core-news-lg==3.7.0) (2.4.417150.4580142)\n",
            "Requirement already satisfied: spacy-legacy<3.1.0,>=3.0.11 in /usr/local/lib/python3.10/dist-packages (from spacy<3.8.0,>=3.7.0->uk-core-news-lg==3.7.0) (3.0.12)\n",
            "Requirement already satisfied: spacy-loggers<2.0.0,>=1.0.0 in /usr/local/lib/python3.10/dist-packages (from spacy<3.8.0,>=3.7.0->uk-core-news-lg==3.7.0) (1.0.5)\n",
            "Requirement already satisfied: murmurhash<1.1.0,>=0.28.0 in /usr/local/lib/python3.10/dist-packages (from spacy<3.8.0,>=3.7.0->uk-core-news-lg==3.7.0) (1.0.10)\n",
            "Requirement already satisfied: cymem<2.1.0,>=2.0.2 in /usr/local/lib/python3.10/dist-packages (from spacy<3.8.0,>=3.7.0->uk-core-news-lg==3.7.0) (2.0.8)\n",
            "Requirement already satisfied: preshed<3.1.0,>=3.0.2 in /usr/local/lib/python3.10/dist-packages (from spacy<3.8.0,>=3.7.0->uk-core-news-lg==3.7.0) (3.0.9)\n",
            "Requirement already satisfied: thinc<8.3.0,>=8.2.2 in /usr/local/lib/python3.10/dist-packages (from spacy<3.8.0,>=3.7.0->uk-core-news-lg==3.7.0) (8.2.5)\n",
            "Requirement already satisfied: wasabi<1.2.0,>=0.9.1 in /usr/local/lib/python3.10/dist-packages (from spacy<3.8.0,>=3.7.0->uk-core-news-lg==3.7.0) (1.1.3)\n",
            "Requirement already satisfied: srsly<3.0.0,>=2.4.3 in /usr/local/lib/python3.10/dist-packages (from spacy<3.8.0,>=3.7.0->uk-core-news-lg==3.7.0) (2.4.8)\n",
            "Requirement already satisfied: catalogue<2.1.0,>=2.0.6 in /usr/local/lib/python3.10/dist-packages (from spacy<3.8.0,>=3.7.0->uk-core-news-lg==3.7.0) (2.0.10)\n",
            "Requirement already satisfied: weasel<0.5.0,>=0.1.0 in /usr/local/lib/python3.10/dist-packages (from spacy<3.8.0,>=3.7.0->uk-core-news-lg==3.7.0) (0.4.1)\n",
            "Requirement already satisfied: typer<1.0.0,>=0.3.0 in /usr/local/lib/python3.10/dist-packages (from spacy<3.8.0,>=3.7.0->uk-core-news-lg==3.7.0) (0.13.0)\n",
            "Requirement already satisfied: tqdm<5.0.0,>=4.38.0 in /usr/local/lib/python3.10/dist-packages (from spacy<3.8.0,>=3.7.0->uk-core-news-lg==3.7.0) (4.66.6)\n",
            "Requirement already satisfied: requests<3.0.0,>=2.13.0 in /usr/local/lib/python3.10/dist-packages (from spacy<3.8.0,>=3.7.0->uk-core-news-lg==3.7.0) (2.32.3)\n",
            "Requirement already satisfied: pydantic!=1.8,!=1.8.1,<3.0.0,>=1.7.4 in /usr/local/lib/python3.10/dist-packages (from spacy<3.8.0,>=3.7.0->uk-core-news-lg==3.7.0) (2.9.2)\n",
            "Requirement already satisfied: jinja2 in /usr/local/lib/python3.10/dist-packages (from spacy<3.8.0,>=3.7.0->uk-core-news-lg==3.7.0) (3.1.4)\n",
            "Requirement already satisfied: setuptools in /usr/local/lib/python3.10/dist-packages (from spacy<3.8.0,>=3.7.0->uk-core-news-lg==3.7.0) (75.1.0)\n",
            "Requirement already satisfied: packaging>=20.0 in /usr/local/lib/python3.10/dist-packages (from spacy<3.8.0,>=3.7.0->uk-core-news-lg==3.7.0) (24.2)\n",
            "Requirement already satisfied: langcodes<4.0.0,>=3.2.0 in /usr/local/lib/python3.10/dist-packages (from spacy<3.8.0,>=3.7.0->uk-core-news-lg==3.7.0) (3.4.1)\n",
            "Requirement already satisfied: numpy>=1.19.0 in /usr/local/lib/python3.10/dist-packages (from spacy<3.8.0,>=3.7.0->uk-core-news-lg==3.7.0) (1.26.4)\n",
            "Requirement already satisfied: language-data>=1.2 in /usr/local/lib/python3.10/dist-packages (from langcodes<4.0.0,>=3.2.0->spacy<3.8.0,>=3.7.0->uk-core-news-lg==3.7.0) (1.2.0)\n",
            "Requirement already satisfied: annotated-types>=0.6.0 in /usr/local/lib/python3.10/dist-packages (from pydantic!=1.8,!=1.8.1,<3.0.0,>=1.7.4->spacy<3.8.0,>=3.7.0->uk-core-news-lg==3.7.0) (0.7.0)\n",
            "Requirement already satisfied: pydantic-core==2.23.4 in /usr/local/lib/python3.10/dist-packages (from pydantic!=1.8,!=1.8.1,<3.0.0,>=1.7.4->spacy<3.8.0,>=3.7.0->uk-core-news-lg==3.7.0) (2.23.4)\n",
            "Requirement already satisfied: typing-extensions>=4.6.1 in /usr/local/lib/python3.10/dist-packages (from pydantic!=1.8,!=1.8.1,<3.0.0,>=1.7.4->spacy<3.8.0,>=3.7.0->uk-core-news-lg==3.7.0) (4.12.2)\n",
            "Requirement already satisfied: charset-normalizer<4,>=2 in /usr/local/lib/python3.10/dist-packages (from requests<3.0.0,>=2.13.0->spacy<3.8.0,>=3.7.0->uk-core-news-lg==3.7.0) (3.4.0)\n",
            "Requirement already satisfied: idna<4,>=2.5 in /usr/local/lib/python3.10/dist-packages (from requests<3.0.0,>=2.13.0->spacy<3.8.0,>=3.7.0->uk-core-news-lg==3.7.0) (3.10)\n",
            "Requirement already satisfied: urllib3<3,>=1.21.1 in /usr/local/lib/python3.10/dist-packages (from requests<3.0.0,>=2.13.0->spacy<3.8.0,>=3.7.0->uk-core-news-lg==3.7.0) (2.2.3)\n",
            "Requirement already satisfied: certifi>=2017.4.17 in /usr/local/lib/python3.10/dist-packages (from requests<3.0.0,>=2.13.0->spacy<3.8.0,>=3.7.0->uk-core-news-lg==3.7.0) (2024.8.30)\n",
            "Requirement already satisfied: blis<0.8.0,>=0.7.8 in /usr/local/lib/python3.10/dist-packages (from thinc<8.3.0,>=8.2.2->spacy<3.8.0,>=3.7.0->uk-core-news-lg==3.7.0) (0.7.11)\n",
            "Requirement already satisfied: confection<1.0.0,>=0.0.1 in /usr/local/lib/python3.10/dist-packages (from thinc<8.3.0,>=8.2.2->spacy<3.8.0,>=3.7.0->uk-core-news-lg==3.7.0) (0.1.5)\n",
            "Requirement already satisfied: click>=8.0.0 in /usr/local/lib/python3.10/dist-packages (from typer<1.0.0,>=0.3.0->spacy<3.8.0,>=3.7.0->uk-core-news-lg==3.7.0) (8.1.7)\n",
            "Requirement already satisfied: shellingham>=1.3.0 in /usr/local/lib/python3.10/dist-packages (from typer<1.0.0,>=0.3.0->spacy<3.8.0,>=3.7.0->uk-core-news-lg==3.7.0) (1.5.4)\n",
            "Requirement already satisfied: rich>=10.11.0 in /usr/local/lib/python3.10/dist-packages (from typer<1.0.0,>=0.3.0->spacy<3.8.0,>=3.7.0->uk-core-news-lg==3.7.0) (13.9.4)\n",
            "Requirement already satisfied: cloudpathlib<1.0.0,>=0.7.0 in /usr/local/lib/python3.10/dist-packages (from weasel<0.5.0,>=0.1.0->spacy<3.8.0,>=3.7.0->uk-core-news-lg==3.7.0) (0.20.0)\n",
            "Requirement already satisfied: smart-open<8.0.0,>=5.2.1 in /usr/local/lib/python3.10/dist-packages (from weasel<0.5.0,>=0.1.0->spacy<3.8.0,>=3.7.0->uk-core-news-lg==3.7.0) (7.0.5)\n",
            "Requirement already satisfied: MarkupSafe>=2.0 in /usr/local/lib/python3.10/dist-packages (from jinja2->spacy<3.8.0,>=3.7.0->uk-core-news-lg==3.7.0) (3.0.2)\n",
            "Requirement already satisfied: marisa-trie>=0.7.7 in /usr/local/lib/python3.10/dist-packages (from language-data>=1.2->langcodes<4.0.0,>=3.2.0->spacy<3.8.0,>=3.7.0->uk-core-news-lg==3.7.0) (1.2.1)\n",
            "Requirement already satisfied: markdown-it-py>=2.2.0 in /usr/local/lib/python3.10/dist-packages (from rich>=10.11.0->typer<1.0.0,>=0.3.0->spacy<3.8.0,>=3.7.0->uk-core-news-lg==3.7.0) (3.0.0)\n",
            "Requirement already satisfied: pygments<3.0.0,>=2.13.0 in /usr/local/lib/python3.10/dist-packages (from rich>=10.11.0->typer<1.0.0,>=0.3.0->spacy<3.8.0,>=3.7.0->uk-core-news-lg==3.7.0) (2.18.0)\n",
            "Requirement already satisfied: wrapt in /usr/local/lib/python3.10/dist-packages (from smart-open<8.0.0,>=5.2.1->weasel<0.5.0,>=0.1.0->spacy<3.8.0,>=3.7.0->uk-core-news-lg==3.7.0) (1.16.0)\n",
            "Requirement already satisfied: mdurl~=0.1 in /usr/local/lib/python3.10/dist-packages (from markdown-it-py>=2.2.0->rich>=10.11.0->typer<1.0.0,>=0.3.0->spacy<3.8.0,>=3.7.0->uk-core-news-lg==3.7.0) (0.1.2)\n",
            "\u001b[38;5;2m✔ Download and installation successful\u001b[0m\n",
            "You can now load the package via spacy.load('uk_core_news_lg')\n",
            "\u001b[38;5;3m⚠ Restart to reload dependencies\u001b[0m\n",
            "If you are in a Jupyter or Colab notebook, you may need to restart Python in\n",
            "order to load all the package's dependencies. You can do this by selecting the\n",
            "'Restart kernel' or 'Restart runtime' option.\n"
          ]
        }
      ]
    },
    {
      "cell_type": "markdown",
      "source": [
        "# Mount Google Drive and Set Paths"
      ],
      "metadata": {
        "id": "MW5gy_5HC-Gv"
      }
    },
    {
      "cell_type": "code",
      "source": [
        "drive.mount(\"/content/drive\")\n",
        "\n",
        "folder_path = \"/content/drive/MyDrive/Colab Notebooks/files/CVs\"\n",
        "file_path = \"/content/drive/MyDrive/Colab Notebooks/files/CVs/CV_Designer.pdf\"\n",
        "\n",
        "nlp = spacy.load(\"uk_core_news_lg\")"
      ],
      "metadata": {
        "colab": {
          "base_uri": "https://localhost:8080/"
        },
        "id": "Iot1dHvQYDu2",
        "outputId": "5b6d80a2-8ff2-4749-c675-85b08d9ae473"
      },
      "execution_count": 2,
      "outputs": [
        {
          "output_type": "stream",
          "name": "stdout",
          "text": [
            "Drive already mounted at /content/drive; to attempt to forcibly remount, call drive.mount(\"/content/drive\", force_remount=True).\n"
          ]
        }
      ]
    },
    {
      "cell_type": "markdown",
      "source": [
        "# Read files (pdf, docx, txt)"
      ],
      "metadata": {
        "id": "882K4jn5DDP4"
      }
    },
    {
      "cell_type": "code",
      "source": [
        "def read_pdf(file_path):\n",
        "    text = \"\"\n",
        "    with pdfplumber.open(file_path) as pdf:\n",
        "        for page in pdf.pages:\n",
        "            text += page.extract_text() + \"\\n\"\n",
        "    return text\n",
        "\n",
        "def read_docx(file_path):\n",
        "    doc = docx.Document(file_path)\n",
        "    return \"\\n\".join([paragraph.text for paragraph in doc.paragraphs])\n",
        "\n",
        "def read_txt(file_path):\n",
        "    with open(file_path, 'r', encoding='utf-8') as file:\n",
        "        return file.read()"
      ],
      "metadata": {
        "id": "tTSmx7kTX7Od"
      },
      "execution_count": 3,
      "outputs": []
    },
    {
      "cell_type": "markdown",
      "source": [
        "# Get name\n",
        "\n",
        "1. Initialize matcher: set up the Matcher with spaCy’s vocabulary to detect Ukrainian name patterns.\n",
        "2. Define patterns: create patterns for common Ukrainian name structures. These patterns are intended to capture both first-last and first-middle-last name structures.\n",
        "3. Match & extract name: process the text’s initial lines to identify probable name positions. If no entity is detected, use regex to identify capitalized words.\n",
        "4. Return first match: return the first detected name, prioritizing spaCy NER over the custom matcher if both are present.\n",
        "\n",
        "### TODO:\n",
        "\n",
        "1. Handle cases where initials are present.\n",
        "2. Expand to recognize single-word names or names with hyphens."
      ],
      "metadata": {
        "id": "O9k44JF3DiLO"
      }
    },
    {
      "cell_type": "code",
      "source": [
        "matcher = Matcher(nlp.vocab)\n",
        "\n",
        "patterns = [\n",
        "    [{'POS': 'PROPN'}, {'POS': 'PROPN'}],          # First Last\n",
        "    [{'POS': 'PROPN'}, {'POS': 'PROPN'}, {'POS': 'PROPN'}]  # First Middle Last\n",
        "]\n",
        "\n",
        "matcher.add(\"NAME\", patterns)\n",
        "\n",
        "def extract_name_ukrainian(text):\n",
        "    if isinstance(text, spacy.tokens.Doc):\n",
        "        text = text.text\n",
        "\n",
        "    initial_lines = \"\\n\".join(text.splitlines()[:3])\n",
        "    doc = nlp(initial_lines)\n",
        "\n",
        "    names = [ent.text for ent in doc.ents if ent.label_ == \"PERSON\"]\n",
        "    if names:\n",
        "        return names[0]\n",
        "    else:\n",
        "        fallback_name_pattern = re.compile(r'\\b[А-ЯЇЄІҐ][а-яїєіґ]+(?: [А-ЯЇЄІҐ]\\.?| [А-ЯЇЄІҐ][а-яїєіґ]+)?\\b')\n",
        "        name_match = fallback_name_pattern.search(initial_lines)\n",
        "        return name_match.group(0) if name_match else None\n",
        "\n",
        "    matches = matcher(doc)\n",
        "    for match_id, start, end in matches:\n",
        "        span = doc[start:end]\n",
        "        return span.text\n",
        "\n",
        "    return None"
      ],
      "metadata": {
        "id": "mlQN1homjCou"
      },
      "execution_count": 4,
      "outputs": []
    },
    {
      "cell_type": "code",
      "source": [
        "sample_text_1 = \"\"\"\n",
        "Ярослав П\n",
        "UX/UI Designer | Product Designer\n",
        "Маю значнии досвід роботи в UX/UI дизаи ні...\n",
        "\"\"\"\n",
        "\n",
        "sample_text_2 = \"\"\"\n",
        "PYTHON FULL-STACK РОЗРОБНИК\n",
        "Микола П\n",
        "Я маю досвід роботи в розробці повного циклу програмного забезпечення...\n",
        "\"\"\"\n",
        "\n",
        "sample_text_3 = \"\"\"\n",
        "Ваховська Віра\n",
        "(Навички & Проєкти & Мови & Більше)\n",
        "vahovskavm2003@gmail.com • @vera_vah • LinkedIn • GitHub • 0969359340\n",
        "\"\"\"\n",
        "\n",
        "# Extract names\n",
        "name1 = extract_name_ukrainian(sample_text_1)\n",
        "name2 = extract_name_ukrainian(sample_text_2)\n",
        "name3 = extract_name_ukrainian(sample_text_3)\n",
        "\n",
        "print(\"Extracted Name 1:\", name1)\n",
        "print(\"Extracted Name 2:\", name2)\n",
        "print(\"Extracted Name 3:\", name3)"
      ],
      "metadata": {
        "colab": {
          "base_uri": "https://localhost:8080/"
        },
        "id": "HHh_7r6KHWYB",
        "outputId": "3c5ee68d-1e58-447d-9a4f-058de5b2f114"
      },
      "execution_count": 5,
      "outputs": [
        {
          "output_type": "stream",
          "name": "stdout",
          "text": [
            "Extracted Name 1: Ярослав П\n",
            "Extracted Name 2: Микола П\n",
            "Extracted Name 3: Ваховська Віра\n"
          ]
        }
      ]
    },
    {
      "cell_type": "markdown",
      "source": [
        "# Get contact information (number, email)\n",
        "\n",
        "1. Define regex patterns: use regex patterns for phone numbers and emails.\n",
        "2. Extract phone numbers: match phone patterns, remove whitespace and return unique values.\n",
        "3. Extract emails: match standard email formats and return unique values.\n",
        "4. Combine results: return both phones and emails, if available, as a structured dictionary."
      ],
      "metadata": {
        "id": "Z6oGEh9jDcD5"
      }
    },
    {
      "cell_type": "code",
      "source": [
        "def extract_phone_numbers(text):\n",
        "    phone_pattern = re.compile(\n",
        "        r'\\+?3?8?\\s?\\(?0\\d{2}\\)?\\s?\\d{3}[-\\s]?\\d{2}[-\\s]?\\d{2}'\n",
        "    )\n",
        "    phones = phone_pattern.findall(text)\n",
        "    return [phone.strip() for phone in phones]\n",
        "\n",
        "def extract_emails(text):\n",
        "    email_pattern = re.compile(\n",
        "        r'[a-zA-Z0-9._%+-]+@[a-zA-Z0-9.-]+\\.[a-zA-Z]{2,}'\n",
        "    )\n",
        "    return email_pattern.findall(text)\n",
        "\n",
        "def extract_contact_info(text):\n",
        "    if isinstance(text, spacy.tokens.Doc):\n",
        "        text = text.text\n",
        "\n",
        "    phones = extract_phone_numbers(text)\n",
        "    emails = extract_emails(text)\n",
        "\n",
        "    phones = list(set(phones))\n",
        "    emails = list(set(emails))\n",
        "\n",
        "    return {\n",
        "        \"phones\": phones if phones else None,\n",
        "        \"emails\": emails if emails else None\n",
        "    }"
      ],
      "metadata": {
        "id": "QuKD07LGbnNw"
      },
      "execution_count": 6,
      "outputs": []
    },
    {
      "cell_type": "code",
      "source": [
        "sample_resume_1 = \"\"\"\n",
        "Ярослав П\n",
        "UX/UI Designer | Product Designer\n",
        "vahovskavm2003@gmail.com • @vera_vah • LinkedIn • GitHub • 0969359340\n",
        "\"\"\"\n",
        "\n",
        "sample_resume_2 = \"\"\"\n",
        "Микола П\n",
        "Full-Stack Developer\n",
        "Контакти: m.pavlenko@gmail.com, +380639562147\n",
        "\"\"\"\n",
        "\n",
        "sample_resume_3 = \"\"\"\n",
        "Андрій К\n",
        "Інженер-розробник\n",
        "Email: andriy.k@example.com • andriy202.k@gmail.com\n",
        "\"\"\"\n",
        "\n",
        "result_1 = extract_contact_info(sample_resume_1)\n",
        "result_2 = extract_contact_info(sample_resume_2)\n",
        "result_3 = extract_contact_info(sample_resume_3)\n",
        "\n",
        "print(\"Результати для резюме 1:\", result_1)\n",
        "print(\"Результати для резюме 2:\", result_2)\n",
        "print(\"Результати для резюме 3:\", result_3)"
      ],
      "metadata": {
        "colab": {
          "base_uri": "https://localhost:8080/"
        },
        "id": "Dg_t1O59IMO_",
        "outputId": "5e5168a7-b280-4af9-e27a-942e0023806b"
      },
      "execution_count": 7,
      "outputs": [
        {
          "output_type": "stream",
          "name": "stdout",
          "text": [
            "Результати для резюме 1: {'phones': ['0969359340'], 'emails': ['vahovskavm2003@gmail.com']}\n",
            "Результати для резюме 2: {'phones': ['+380639562147'], 'emails': ['m.pavlenko@gmail.com']}\n",
            "Результати для резюме 3: {'phones': None, 'emails': ['andriy202.k@gmail.com', 'andriy.k@example.com']}\n"
          ]
        }
      ]
    },
    {
      "cell_type": "markdown",
      "source": [
        "# Get experience (position, company, dates of employment, key responsibilities)\n",
        "\n",
        "1. Search keywords: look for keywords indicating an experience section.\n",
        "2. Define job pattern: use regex to match positions, companies, and employment dates.\n",
        "3. Extract responsibilities: match bullet points following each date, indicating responsibilities.\n",
        "4. Format results: return experience entries as structured data with fields for position, company, dates, and responsibilities.\n",
        "\n",
        "### TODO\n",
        "\n",
        "1. Adjust to handle variations in date formats.\n",
        "2. Remove \"\\n\".\n",
        "3. Think about making it more flexible: without defying the exact structure"
      ],
      "metadata": {
        "id": "Za8eign_Drzg"
      }
    },
    {
      "cell_type": "code",
      "source": [
        "def extract_experience(text):\n",
        "    experiences = []\n",
        "    keywords = r'(досвід|проєкти|застосунок|додаток|система|сайт)'\n",
        "\n",
        "    start_idx = re.search(keywords, text, re.IGNORECASE)\n",
        "    if not start_idx:\n",
        "        return None\n",
        "\n",
        "    start_idx = start_idx.start()\n",
        "    text_section = text[start_idx:]\n",
        "\n",
        "    job_pattern = re.compile(r\"([A-Za-zА-Яа-яІЇҐЄіїґє\\s]+)\\n([A-Za-zА-Яа-яІЇҐЄіїґє\\s]+)\\n([А-ЯІЇҐЄ][a-zа-яіїґє]+\\s\\d{4}\\s?-\\s?(?:[А-ЯІЇҐЄ][a-zа-яіїґє]+\\s\\d{4}|(?:Дотепер|Теперішній час))?)\", re.MULTILINE)\n",
        "    matches = job_pattern.findall(text_section)\n",
        "\n",
        "    for match in matches:\n",
        "        position, company, dates = match[0].strip(), match[1].strip(), match[2].strip()\n",
        "\n",
        "        responsibilities = extract_responsibilities(text_section, dates)\n",
        "\n",
        "        experiences.append({\n",
        "            'position': position,\n",
        "            'company': company,\n",
        "            'dates': dates,\n",
        "            'responsibilities': responsibilities\n",
        "        })\n",
        "\n",
        "    return experiences\n",
        "\n",
        "# Helper function to extract responsibilities for each position\n",
        "def extract_responsibilities(text, dates):\n",
        "    responsibilities = []\n",
        "\n",
        "    section_start = text.find(dates)\n",
        "    section_end = text.find(\"\\n\\n\", section_start)\n",
        "    if section_end == -1:\n",
        "        section_end = len(text)\n",
        "    responsibilities_section = text[section_start + len(dates):section_end]\n",
        "\n",
        "    resp_pattern = re.compile(r'•\\s?(.*?)(?=\\n•|\\n$)', re.DOTALL)\n",
        "    resp_matches = resp_pattern.findall(responsibilities_section)\n",
        "\n",
        "    if resp_matches:\n",
        "        responsibilities = [match.strip() for match in resp_matches if match.strip()]\n",
        "    else:\n",
        "        additional_pattern = re.compile(r\"(обов'язки:?\\s*|)(.*)\", re.IGNORECASE | re.DOTALL)\n",
        "        additional_match = additional_pattern.search(responsibilities_section)\n",
        "        if additional_match:\n",
        "            responsibilities_text = additional_match.group(2).strip()\n",
        "            responsibilities.append(responsibilities_text)\n",
        "\n",
        "    return responsibilities"
      ],
      "metadata": {
        "id": "myLDwv70vj8k"
      },
      "execution_count": 8,
      "outputs": []
    },
    {
      "cell_type": "code",
      "source": [
        "resume_text = \"\"\"\n",
        "Ярослав П\n",
        "досвід\n",
        "UX/UI Дизайнер\n",
        "TechVega Solutions\n",
        "Червень 2022 - Дотепер\n",
        "• Провів юзабіліті-тестування та інтерв'ю з користувачами\n",
        "• Розробляв каркаси, прототипи та фінальні високоякісні дизайни\n",
        "• Співпрацював з інженерами для впровадження адаптивних дизаїнів\n",
        "\n",
        "UI/UX Дизайнер\n",
        "CreativeForge Studio\n",
        "Лютий 2020 - Травень 2022\n",
        "Як UI/UX дизайнер у CreativeForge Studio, я займався створенням дизайну для\n",
        "додатків з управління проєктами, спортивних платформ та новинних порталів. Мої\n",
        "обов’язки включали проведення досліджень користувачів, створення інтерактивних\n",
        "макетів та розробку елементів інтерфейсу, що підвищували зручність користувачів.\n",
        "\n",
        "Додаток для управління запасами\n",
        "Січень 2021 - Листопад 2022\n",
        "Full-Stack Розробник TechSolutions\n",
        "Опис: Додаток для управління запасами, який допомагає\n",
        "підприємствам контролювати наявність товарів,\n",
        "здійснювати замовлення та аналізувати продажі. Інтерфейс\n",
        "дозволяє користувачам відслідковувати запаси в режимі\n",
        "реального часу, отримувати сповіщення про низькі запаси\n",
        "та генерувати звіти.\n",
        "Технології: Python, Django, PostgreSQL, Redis, JavaScript,\n",
        "React, Redux, CSS, Stripe, AWS, Docker, CircleCI, Pytest.\n",
        "Обовʼязки:\n",
        "• Розробив API для деяких коефіцієнтів;\n",
        "• Працював над функціональністю та дизайном статистики;\n",
        "• Реалізував функцію підписки за допомогою Stripe;\n",
        "• Переробив сторінку адміністратора;\n",
        "• Виправив помилки на бекенді та фронтенді;\n",
        "• Створив юніт-тести;\n",
        "• Проводив рев’ю коду;\n",
        "• Брав участь у Scrum-зустрічах\n",
        "\"\"\"\n",
        "\n",
        "experience = extract_experience(resume_text)\n",
        "print(f\"Final experience: {experience}\")"
      ],
      "metadata": {
        "colab": {
          "base_uri": "https://localhost:8080/"
        },
        "id": "vGCmmG8PJMI3",
        "outputId": "03dee31b-d018-4320-dd7f-b13424e13f78"
      },
      "execution_count": 9,
      "outputs": [
        {
          "output_type": "stream",
          "name": "stdout",
          "text": [
            "Final experience: [{'position': 'UI Дизайнер', 'company': 'TechVega Solutions', 'dates': 'Червень 2022 - Дотепер', 'responsibilities': [\"Провів юзабіліті-тестування та інтерв'ю з користувачами\", 'Розробляв каркаси, прототипи та фінальні високоякісні дизайни']}, {'position': 'UX Дизайнер', 'company': 'CreativeForge Studio', 'dates': 'Лютий 2020 - Травень 2022', 'responsibilities': ['Як UI/UX дизайнер у CreativeForge Studio, я займався створенням дизайну для\\nдодатків з управління проєктами, спортивних платформ та новинних порталів. Мої\\nобов’язки включали проведення досліджень користувачів, створення інтерактивних\\nмакетів та розробку елементів інтерфейсу, що підвищували зручність користувачів.']}, {'position': '', 'company': 'Додаток для управління запасами', 'dates': 'Січень 2021 - Листопад 2022', 'responsibilities': ['Розробив API для деяких коефіцієнтів;', 'Працював над функціональністю та дизайном статистики;', 'Реалізував функцію підписки за допомогою Stripe;', 'Переробив сторінку адміністратора;', 'Виправив помилки на бекенді та фронтенді;', 'Створив юніт-тести;', 'Проводив рев’ю коду;', 'Брав участь у Scrum-зустрічах']}]\n"
          ]
        }
      ]
    },
    {
      "cell_type": "markdown",
      "source": [
        "# Get education (institution, specialization, graduation year)\n",
        "\n",
        "1. Search keyword: locate the ‘освіта’ keyword in the text.\n",
        "2. Define education pattern: use regex to match institutions, specializations, and graduation years.\n",
        "3. Extract data: for each match, structure the data with institution, specialization, and graduation year fields.\n",
        "4. Format results: compile all education data into a structured list.\n",
        "\n",
        "### TODO:\n",
        "\n",
        "Think about making it more flexible."
      ],
      "metadata": {
        "id": "murmAobTDxbP"
      }
    },
    {
      "cell_type": "code",
      "source": [
        "def extract_education(text):\n",
        "    education = []\n",
        "\n",
        "    start_idx = re.search(r'освіта', text, re.IGNORECASE)\n",
        "    if not start_idx:\n",
        "        return None\n",
        "\n",
        "    start_idx = start_idx.end()\n",
        "    text_section = text[start_idx:].strip()\n",
        "\n",
        "    edu_pattern = re.compile(\n",
        "        r\"([A-Za-zА-Яа-яІЇҐЄіїґє\\s,]+)\\n(.*?)\\n(\\d{4})\",\n",
        "        re.IGNORECASE\n",
        "    )\n",
        "\n",
        "    matches = edu_pattern.findall(text_section)\n",
        "\n",
        "    for match in matches:\n",
        "        institution = match[0].strip()\n",
        "        specialization = match[1].strip()\n",
        "        graduation_year = match[2].strip()\n",
        "\n",
        "        education.append({\n",
        "            'institution': institution,\n",
        "            'specialization': specialization,\n",
        "            'graduation_year': graduation_year\n",
        "        })\n",
        "\n",
        "    return education"
      ],
      "metadata": {
        "id": "zp7M5efRwkLP"
      },
      "execution_count": 10,
      "outputs": []
    },
    {
      "cell_type": "code",
      "source": [
        "resume_text = \"\"\"\n",
        "ОСВІТА\n",
        "Київський національний університет імені Тараса Шевченка\n",
        "бакалавр з комп'ютерних наук\n",
        "2022\n",
        "\n",
        "Харківський політехнічний інститут\n",
        "магістр інженерії\n",
        "2024\n",
        "\"\"\"\n",
        "\n",
        "# Витягнення інформації про освіту\n",
        "education_details = extract_education(resume_text)\n",
        "print(f\"Final education details: {education_details}\")"
      ],
      "metadata": {
        "colab": {
          "base_uri": "https://localhost:8080/"
        },
        "id": "79uZgQRyJ-iU",
        "outputId": "47dfb49b-1e1b-4e31-97bb-105f56c62ac3"
      },
      "execution_count": 11,
      "outputs": [
        {
          "output_type": "stream",
          "name": "stdout",
          "text": [
            "Final education details: [{'institution': 'Київський національний університет імені Тараса Шевченка', 'specialization': \"бакалавр з комп'ютерних наук\", 'graduation_year': '2022'}, {'institution': 'Харківський політехнічний інститут', 'specialization': 'магістр інженерії', 'graduation_year': '2024'}]\n"
          ]
        }
      ]
    },
    {
      "cell_type": "markdown",
      "source": [
        "# Get skills (list of technical and soft skills)\n",
        "\n",
        "1. Search for skill keywords: locate sections containing “skills” or “technologies” keywords.\n",
        "2. Define skill pattern: use regex to match individual lines as skills, especially after bullet points.\n",
        "3. Remove duplicates: add each skill to a set to ensure unique entries.\n",
        "4. Format Results: convert the set back to a list and capitalize each skill."
      ],
      "metadata": {
        "id": "mRnjAd_1EEOG"
      }
    },
    {
      "cell_type": "code",
      "source": [
        "def extract_skills(text):\n",
        "    skills = set()\n",
        "\n",
        "    skills_section = re.search(r'(навички|технології)', text, re.IGNORECASE)\n",
        "    if not skills_section:\n",
        "        return None\n",
        "\n",
        "    start_idx = skills_section.end()\n",
        "    text_section = text[start_idx:].strip()\n",
        "\n",
        "    skill_pattern = re.compile(r'[\\n-•]\\s*([\\w\\s]+)')\n",
        "    matches = skill_pattern.findall(text_section)\n",
        "\n",
        "    for match in matches:\n",
        "        skill = match.strip().capitalize()\n",
        "        if skill and skill not in skills:\n",
        "            skills.add(skill)\n",
        "\n",
        "    return list(skills)"
      ],
      "metadata": {
        "id": "BK0aaARJxDVy"
      },
      "execution_count": 12,
      "outputs": []
    },
    {
      "cell_type": "code",
      "source": [
        "resume_text = \"\"\"\n",
        "Софт навички\n",
        "- Комунікація та співпраця в міжфункціональних командах\n",
        "- Управління часом і багатозадачність в умовах стиснутих термінів\n",
        "- Адаптивність та готовність вивчати нові тренди та інструменти дизаи ну\n",
        "Технічні навички\n",
        "- Figma, Sketch, Adobe XD, InVision, Marvel, Balsamiq, Axure\n",
        "- володіння HTML5, CSS3, JavaScript для прототипування та створення інтерактивних компонентів\n",
        "- Розуміння основ фронтенд-розробки для ефективної співпраці з інженерами\n",
        "- Досвід створення дизаи н-систем для забезпечення послідовності та ефективності на різних платформах\n",
        "- Проведення досліджень користувачів, створення ваи рфреи мів та прототипів для орієнтованого на користувача дизаи ну\n",
        "- Компетенція у проведенні тестування користувачів та аналізі зворотного зв'язку для покращення дизаи ну\n",
        "\"\"\"\n",
        "\n",
        "skills = extract_skills(resume_text)\n",
        "print(\"Знайдені навички:\", skills)"
      ],
      "metadata": {
        "colab": {
          "base_uri": "https://localhost:8080/"
        },
        "id": "pJ_RSD-pKWqA",
        "outputId": "3baf4b5e-f6c8-464f-8275-1832e8752810"
      },
      "execution_count": 13,
      "outputs": [
        {
          "output_type": "stream",
          "name": "stdout",
          "text": [
            "Знайдені навички: ['Створення ваи рфреи мів та прототипів для орієнтованого на користувача дизаи ну', 'Javascript для прототипування та створення інтерактивних компонентів', 'Balsamiq', 'Комунікація та співпраця в міжфункціональних командах', 'Систем для забезпечення послідовності та ефективності на різних платформах', 'Досвід створення дизаи н', 'Adobe xd', 'Управління часом і багатозадачність в умовах стиснутих термінів', 'Figma', 'Css3', 'Axure', 'Язку для покращення дизаи ну', 'Marvel', 'Sketch', 'Розробки для ефективної співпраці з інженерами', 'Компетенція у проведенні тестування користувачів та аналізі зворотного зв', 'Володіння html5', 'Invision', 'Розуміння основ фронтенд', 'Адаптивність та готовність вивчати нові тренди та інструменти дизаи ну\\nтехнічні навички', 'Проведення досліджень користувачів']\n"
          ]
        }
      ]
    },
    {
      "cell_type": "markdown",
      "source": [
        "# Parse resume\n",
        "\n",
        "1. Check input type: confirm the input text is a string -- error if not.\n",
        "2. Initialize NLP: process the text using spaCy to capture named entities.\n",
        "3. Aggregate results: call each extraction function and compile results in JSON format."
      ],
      "metadata": {
        "id": "x4rNWhWjEMqk"
      }
    },
    {
      "cell_type": "code",
      "source": [
        "def parse_resume(text):\n",
        "    # Ensure input is a string\n",
        "    if not isinstance(text, str):\n",
        "        raise TypeError(\"Input text must be a string.\")\n",
        "\n",
        "    # Process with spaCy NLP model for name extraction\n",
        "    doc = nlp(text)\n",
        "    return {\n",
        "        \"name\": extract_name_ukrainian(doc),\n",
        "        \"contact_info\": extract_contact_info(text),\n",
        "        \"experience\": extract_experience(text),\n",
        "        \"education\": extract_education(text),\n",
        "        \"skills\": extract_skills(text)\n",
        "    }\n"
      ],
      "metadata": {
        "id": "ojOh4zOPX_Zz"
      },
      "execution_count": 14,
      "outputs": []
    },
    {
      "cell_type": "markdown",
      "source": [
        "> The specification states that if the model cannot find certain data, the value of this field should be set to `None`. However, in Python, the value `None` is automatically converted to `null` when converting to JSON using `json.dumps()` (this is standard behavior of the `json` library, so I'm not sure if it was necessary to additionally return `None` after conversion, since the value `null` in JSON corresponds to `None` in Python."
      ],
      "metadata": {
        "id": "6tSvx2slAeIn"
      }
    },
    {
      "cell_type": "markdown",
      "source": [
        "# Test on one resume\n",
        "\n",
        "Demonstrates how to read and parse a single resume file (in PDF format) to show the initial parsing results."
      ],
      "metadata": {
        "id": "IFzoJghzEmY5"
      }
    },
    {
      "cell_type": "code",
      "source": [
        "text = read_pdf(file_path)\n",
        "parsed_data = parse_resume(text)\n",
        "parsed_json = json.dumps(parsed_data, ensure_ascii=False, indent=4)\n",
        "print(\"\\nParsed Resume Data:\\n\", parsed_json)\n",
        "\n",
        "# Save the output as JSON\n",
        "with open(\"resume_output.json\", \"w\", encoding=\"utf-8\") as file:\n",
        "    file.write(parsed_json)"
      ],
      "metadata": {
        "colab": {
          "base_uri": "https://localhost:8080/"
        },
        "id": "FxbAmfZn2Asi",
        "outputId": "e3e8d142-9687-465f-8e83-ffcb4d190655"
      },
      "execution_count": 15,
      "outputs": [
        {
          "output_type": "stream",
          "name": "stdout",
          "text": [
            "\n",
            "Parsed Resume Data:\n",
            " {\n",
            "    \"name\": \"Ярослав П\",\n",
            "    \"contact_info\": {\n",
            "        \"phones\": null,\n",
            "        \"emails\": null\n",
            "    },\n",
            "    \"experience\": [\n",
            "        {\n",
            "            \"position\": \"UI Дизайнер\",\n",
            "            \"company\": \"TechVega Solutions\",\n",
            "            \"dates\": \"Червень 2022 - Дотепер\",\n",
            "            \"responsibilities\": [\n",
            "                \"У ціи ролі я відповідаю за повнии цикл дизаи ну для різноманітних цифрових\\nпродуктів. Заи маюся аналізом потреб користувачів, створенням інтерфеи сів та\\nітерацією дизаи нів на основі відгуків. Проєкти, над якими я працював, включають\\nдодатки для систем бронювання, платформу для онлаи н-освіти та CRM-систему для\\nмалого бізнесу.\\n Провів юзабіліті-тестування та інтерв'ю з користувачами, щоб отримати\\nінсаи ти для покращення систем бронювання.\\n Розробляв каркаси, прототипи та фінальні високоякісні дизаи ни в Figma та\\nAdobe XD для освітньої платформи, забезпечуючи легкість навігації та\\nінтуї тивність інтерфеи су.\\n Створив та підтримував масштабовану систему дизаи ну для CRM-системи, що\\nдозволило скоротити час розробки нових модулів на 30%.\\n Тісно співпрацював з інженерами для впровадження адаптивних та доступних\\nдизаи нів, що дозволили ефективно відображати дані на різних пристроях.\\n Очолював команду молодших дизаи нерів, допомагаючи ї м у створенні\\nзрозумілих інтерфеи сів для нових функціи .\\nUI/UX Дизайнер\\nCreativeForge Studio\\nЛютий 2020 - Травень 2022\\nЯк UI/UX дизаи нер у CreativeForge Studio, я заи мався створенням дизаи ну для\\nдодатків з управління проєктами, спортивних платформ та новинних порталів. Мої\\nобов’язки включали проведення досліджень користувачів, створення інтерактивних\\nмакетів та розробку елементів інтерфеи су, що підвищували зручність користувачів.\\n Створював каркаси, користувацькі потоки та високоякісні прототипи для\\nзручного управління проектами.\\n Проводив A/B-тестування на новинному порталі, щоб виявити оптимальні\\nваріанти відображення інформації , що підвищило рівень взаємодії на 20%.\\n Співпрацював з фронтенд-розробниками для реалізації адаптивного дизаи ну\\nдля спортивної платформи, що покращило доступність для мобільних\\nкористувачів.\\n Брав участь у регулярних переглядах дизаи ну, використовуючи відгуки від\\nтренерів та користувачів для вдосконалення інтерфеи су спортивних додатків.\\nUI/UX Дизайнер\\nSmartTech Innovations\\nГрудень 2018 - Січень 2019\\nЯк частина команди в SmartTech Innovations, я працював над розробкою інтерфеи сів\\nдля додатків з автоматизації офісних процесів та мобільного додатку для трекінгу\\nфінансових витрат. Основним завданням було створення інтуї тивно зрозумілих\\nрішень для автоматизації рутинних задач та зручного контролю за особистими\\nфінансами.\\n Розробляв каркаси та прототипи для додатку автоматизації завдань, що\\nполегшило управління робочими процесами в офісі.\\n Співпрацював зі стеи кхолдерами для створення інтуї тивного інтерфеи су для\\nдодатку з фінансового трекінгу, якии дозволяв користувачам швидко\\nдодавати та переглядати свої витрати.\\n Проводив тестування зручності для обох додатків, отримуючи відгуки для\\nвдосконалення функціональності та спрощення навігації .\\n Тісно співпрацював з розробниками для реалізації адаптивного дизаи ну, що\\nзабезпечив коректне відображення на різних розмірах екранів.\"\n",
            "            ]\n",
            "        },\n",
            "        {\n",
            "            \"position\": \"UX Дизайнер\",\n",
            "            \"company\": \"CreativeForge Studio\",\n",
            "            \"dates\": \"Лютий 2020 - Травень 2022\",\n",
            "            \"responsibilities\": [\n",
            "                \"Як UI/UX дизаи нер у CreativeForge Studio, я заи мався створенням дизаи ну для\\nдодатків з управління проєктами, спортивних платформ та новинних порталів. Мої\\nобов’язки включали проведення досліджень користувачів, створення інтерактивних\\nмакетів та розробку елементів інтерфеи су, що підвищували зручність користувачів.\\n Створював каркаси, користувацькі потоки та високоякісні прототипи для\\nзручного управління проектами.\\n Проводив A/B-тестування на новинному порталі, щоб виявити оптимальні\\nваріанти відображення інформації , що підвищило рівень взаємодії на 20%.\\n Співпрацював з фронтенд-розробниками для реалізації адаптивного дизаи ну\\nдля спортивної платформи, що покращило доступність для мобільних\\nкористувачів.\\n Брав участь у регулярних переглядах дизаи ну, використовуючи відгуки від\\nтренерів та користувачів для вдосконалення інтерфеи су спортивних додатків.\\nUI/UX Дизайнер\\nSmartTech Innovations\\nГрудень 2018 - Січень 2019\\nЯк частина команди в SmartTech Innovations, я працював над розробкою інтерфеи сів\\nдля додатків з автоматизації офісних процесів та мобільного додатку для трекінгу\\nфінансових витрат. Основним завданням було створення інтуї тивно зрозумілих\\nрішень для автоматизації рутинних задач та зручного контролю за особистими\\nфінансами.\\n Розробляв каркаси та прототипи для додатку автоматизації завдань, що\\nполегшило управління робочими процесами в офісі.\\n Співпрацював зі стеи кхолдерами для створення інтуї тивного інтерфеи су для\\nдодатку з фінансового трекінгу, якии дозволяв користувачам швидко\\nдодавати та переглядати свої витрати.\\n Проводив тестування зручності для обох додатків, отримуючи відгуки для\\nвдосконалення функціональності та спрощення навігації .\\n Тісно співпрацював з розробниками для реалізації адаптивного дизаи ну, що\\nзабезпечив коректне відображення на різних розмірах екранів.\"\n",
            "            ]\n",
            "        },\n",
            "        {\n",
            "            \"position\": \"UX Дизайнер\",\n",
            "            \"company\": \"SmartTech Innovations\",\n",
            "            \"dates\": \"Грудень 2018 - Січень 2019\",\n",
            "            \"responsibilities\": [\n",
            "                \"Як частина команди в SmartTech Innovations, я працював над розробкою інтерфеи сів\\nдля додатків з автоматизації офісних процесів та мобільного додатку для трекінгу\\nфінансових витрат. Основним завданням було створення інтуї тивно зрозумілих\\nрішень для автоматизації рутинних задач та зручного контролю за особистими\\nфінансами.\\n Розробляв каркаси та прототипи для додатку автоматизації завдань, що\\nполегшило управління робочими процесами в офісі.\\n Співпрацював зі стеи кхолдерами для створення інтуї тивного інтерфеи су для\\nдодатку з фінансового трекінгу, якии дозволяв користувачам швидко\\nдодавати та переглядати свої витрати.\\n Проводив тестування зручності для обох додатків, отримуючи відгуки для\\nвдосконалення функціональності та спрощення навігації .\\n Тісно співпрацював з розробниками для реалізації адаптивного дизаи ну, що\\nзабезпечив коректне відображення на різних розмірах екранів.\"\n",
            "            ]\n",
            "        }\n",
            "    ],\n",
            "    \"education\": [\n",
            "        {\n",
            "            \"institution\": \"Бакалавр з цифрового дизаи ну та комунікаціи\",\n",
            "            \"specialization\": \"Львівськии Університет Дизаи ну\",\n",
            "            \"graduation_year\": \"2016\"\n",
            "        }\n",
            "    ],\n",
            "    \"skills\": [\n",
            "        \"Брав участь у регулярних переглядах дизаи ну\",\n",
            "        \"Ux дизаи нер у creativeforge studio\",\n",
            "        \"Balsamiq\",\n",
            "        \"Січень 2019\\nяк частина команди в smarttech innovations\",\n",
            "        \"Забезпечуючи легкість навігації та\\nінтуї тивність інтерфеи су\",\n",
            "        \"Комунікація та співпраця в міжфункціональних командах\",\n",
            "        \"Над якими я працював\",\n",
            "        \"Figma\",\n",
            "        \"Створення ваи рфреи мів та прототипів\\nдля орієнтованого на користувача дизаи ну\",\n",
            "        \"Тестування та інтерв\",\n",
            "        \"Системи\",\n",
            "        \"Ux дизайнер\\nsmarttech innovations\\nгрудень 2018\",\n",
            "        \"Marvel\",\n",
            "        \"Язки включали проведення досліджень користувачів\",\n",
            "        \"Що підвищило рівень взаємодії на 20\",\n",
            "        \"Проводив a\",\n",
            "        \"Sketch\",\n",
            "        \"Створення інтерактивних\\nмакетів та розробку елементів інтерфеи су\",\n",
            "        \"Створював каркаси\",\n",
            "        \"Травень 2022\\nяк ui\",\n",
            "        \"Що\\nзабезпечив коректне відображення на різних розмірах екранів\",\n",
            "        \"Співпрацював з фронтенд\",\n",
            "        \"Я працював над розробкою інтерфеи сів\\nдля додатків з автоматизації офісних процесів та мобільного додатку для трекінгу\\nфінансових витрат\",\n",
            "        \"Прототипи та фінальні високоякісні дизаи ни в figma та\\nadobe xd для освітньої платформи\",\n",
            "        \"Використовуючи відгуки від\\nтренерів та користувачів для вдосконалення інтерфеи су спортивних додатків\",\n",
            "        \"Компетенція у проведенні тестування користувачів та аналізі зворотного\\nзв\",\n",
            "        \"Адаптивність та готовність вивчати нові тренди та інструменти дизаи ну\\nтехнічні навички\",\n",
            "        \"Проводив тестування зручності для обох додатків\",\n",
            "        \"Досвід створення дизаи н\",\n",
            "        \"Adobe xd\",\n",
            "        \"Мої\\nобов\",\n",
            "        \"Що підвищували зручність користувачів\",\n",
            "        \"Розробниками для реалізації адаптивного дизаи ну\\nдля спортивної платформи\",\n",
            "        \"Ux дизайнер\\ncreativeforge studio\\nлютий 2020\",\n",
            "        \"Щоб виявити оптимальні\\nваріанти відображення інформації\",\n",
            "        \"Володіння html5\",\n",
            "        \"Проведення досліджень користувачів\",\n",
            "        \"B\",\n",
            "        \"Щоб отримати\\nінсаи ти для покращення систем бронювання\",\n",
            "        \"Створенням інтерфеи сів та\\nітерацією дизаи нів на основі відгуків\",\n",
            "        \"Управління часом і багатозадачність в умовах стиснутих термінів\",\n",
            "        \"Що дозволили ефективно відображати дані на різних пристроях\",\n",
            "        \"Javascript для прототипування та створення\\nінтерактивних компонентів\",\n",
            "        \"Допомагаючи ї м у створенні\\nзрозумілих інтерфеи сів для нових функціи\",\n",
            "        \"Користувацькі потоки та високоякісні прототипи для\\nзручного управління проектами\",\n",
            "        \"Очолював команду молодших дизаи нерів\",\n",
            "        \"Тісно співпрацював з розробниками для реалізації адаптивного дизаи ну\",\n",
            "        \"Що\\nдозволило скоротити час розробки нових модулів на 30\",\n",
            "        \"Спортивних платформ та новинних порталів\",\n",
            "        \"Включають\\nдодатки для систем бронювання\",\n",
            "        \"Створив та підтримував масштабовану систему дизаи ну для crm\",\n",
            "        \"Основним завданням було створення інтуї тивно зрозумілих\\nрішень для автоматизації рутинних задач та зручного контролю за особистими\\nфінансами\",\n",
            "        \"Розуміння основ фронтенд\",\n",
            "        \"Співпрацював зі стеи кхолдерами для створення інтуї тивного інтерфеи су для\\nдодатку з фінансового трекінгу\",\n",
            "        \"Якии дозволяв користувачам швидко\\nдодавати та переглядати свої витрати\",\n",
            "        \"Систем для забезпечення послідовності та\\nефективності на різних платформах\",\n",
            "        \"Дотепер\\nу ціи ролі я відповідаю за повнии цикл дизаи ну для різноманітних цифрових\\nпродуктів\",\n",
            "        \"Заи маюся аналізом потреб користувачів\",\n",
            "        \"Що\\nполегшило управління робочими процесами в офісі\",\n",
            "        \"Язку для покращення дизаи ну\\nдосвід\\nux\",\n",
            "        \"Тестування на новинному порталі\",\n",
            "        \"Розробляв каркаси\",\n",
            "        \"Отримуючи відгуки для\\nвдосконалення функціональності та спрощення навігації\",\n",
            "        \"Освіти та crm\",\n",
            "        \"Css3\",\n",
            "        \"Провів юзабіліті\",\n",
            "        \"Axure\",\n",
            "        \"Я заи мався створенням дизаи ну для\\nдодатків з управління проєктами\",\n",
            "        \"Систему для\\nмалого бізнесу\",\n",
            "        \"Що покращило доступність для мобільних\\nкористувачів\",\n",
            "        \"Платформу для онлаи н\",\n",
            "        \"Розробки для ефективної співпраці з інженерами\",\n",
            "        \"Ui дизайнер\\ntechvega solutions\\nчервень 2022\",\n",
            "        \"Тісно співпрацював з інженерами для впровадження адаптивних та доступних\\nдизаи нів\",\n",
            "        \"Проєкти\",\n",
            "        \"Ю з користувачами\",\n",
            "        \"Розробляв каркаси та прототипи для додатку автоматизації завдань\",\n",
            "        \"Ui\",\n",
            "        \"Invision\"\n",
            "    ]\n",
            "}\n"
          ]
        }
      ]
    },
    {
      "cell_type": "code",
      "source": [
        "print(\"Resume Text:\\n\", text)"
      ],
      "metadata": {
        "colab": {
          "base_uri": "https://localhost:8080/"
        },
        "id": "GG0jB-1PT8Ri",
        "outputId": "789f6e36-ee6a-416f-f7f8-02f7847e5cf5"
      },
      "execution_count": 16,
      "outputs": [
        {
          "output_type": "stream",
          "name": "stdout",
          "text": [
            "Resume Text:\n",
            " Ярослав П\n",
            "UX/UI Designer | Product\n",
            "Designer\n",
            "Маю значнии досвід роботи в UX/UI дизаи ні, що включає створення зручних\n",
            "інтерфеи сів для різноманітних цифрових продуктів, таких як освітні платформи,\n",
            "CRM-системи, додатки для управління проєктами та системи бронювання.\n",
            "Спеціалізуюся на проведенні досліджень користувачів, розробці каркасів і\n",
            "прототипів, а також оптимізації дизаи ну на основі відгуків. Володію навичками\n",
            "співпраці з розробниками для впровадження адаптивних рішень, що підвищують\n",
            "доступність і зручність користування. Маю досвід у створенні дизаи н-систем, які\n",
            "забезпечують єдинии стиль і полегшують подальшу розробку продуктів.\n",
            "Освіта\n",
            "2010-2014\n",
            "Бакалавр з цифрового дизаи ну та комунікаціи\n",
            "Львівськии Університет Дизаи ну\n",
            "2016-2018\n",
            "Магістр з цифрового дизаи ну та комунікаціи\n",
            "Львівськии Університет Дизаи ну\n",
            "Софт навички\n",
            " Комунікація та співпраця в міжфункціональних командах\n",
            " Управління часом і багатозадачність в умовах стиснутих термінів\n",
            " Адаптивність та готовність вивчати нові тренди та інструменти дизаи ну\n",
            "Технічні навички\n",
            " Figma, Sketch, Adobe XD, InVision, Marvel, Balsamiq, Axure\n",
            " Володіння HTML5, CSS3, JavaScript для прототипування та створення\n",
            "інтерактивних компонентів\n",
            " Розуміння основ фронтенд-розробки для ефективної співпраці з інженерами\n",
            " Досвід створення дизаи н-систем для забезпечення послідовності та\n",
            "ефективності на різних платформах\n",
            " Проведення досліджень користувачів, створення ваи рфреи мів та прототипів\n",
            "для орієнтованого на користувача дизаи ну\n",
            " Компетенція у проведенні тестування користувачів та аналізі зворотного\n",
            "зв'язку для покращення дизаи ну\n",
            "Досвід\n",
            "UX/UI Дизайнер\n",
            "TechVega Solutions\n",
            "Червень 2022 - Дотепер\n",
            "У ціи ролі я відповідаю за повнии цикл дизаи ну для різноманітних цифрових\n",
            "продуктів. Заи маюся аналізом потреб користувачів, створенням інтерфеи сів та\n",
            "ітерацією дизаи нів на основі відгуків. Проєкти, над якими я працював, включають\n",
            "додатки для систем бронювання, платформу для онлаи н-освіти та CRM-систему для\n",
            "малого бізнесу.\n",
            " Провів юзабіліті-тестування та інтерв'ю з користувачами, щоб отримати\n",
            "інсаи ти для покращення систем бронювання.\n",
            " Розробляв каркаси, прототипи та фінальні високоякісні дизаи ни в Figma та\n",
            "Adobe XD для освітньої платформи, забезпечуючи легкість навігації та\n",
            "інтуї тивність інтерфеи су.\n",
            " Створив та підтримував масштабовану систему дизаи ну для CRM-системи, що\n",
            "дозволило скоротити час розробки нових модулів на 30%.\n",
            " Тісно співпрацював з інженерами для впровадження адаптивних та доступних\n",
            "дизаи нів, що дозволили ефективно відображати дані на різних пристроях.\n",
            " Очолював команду молодших дизаи нерів, допомагаючи ї м у створенні\n",
            "зрозумілих інтерфеи сів для нових функціи .\n",
            "UI/UX Дизайнер\n",
            "CreativeForge Studio\n",
            "Лютий 2020 - Травень 2022\n",
            "Як UI/UX дизаи нер у CreativeForge Studio, я заи мався створенням дизаи ну для\n",
            "додатків з управління проєктами, спортивних платформ та новинних порталів. Мої\n",
            "обов’язки включали проведення досліджень користувачів, створення інтерактивних\n",
            "макетів та розробку елементів інтерфеи су, що підвищували зручність користувачів.\n",
            " Створював каркаси, користувацькі потоки та високоякісні прототипи для\n",
            "зручного управління проектами.\n",
            " Проводив A/B-тестування на новинному порталі, щоб виявити оптимальні\n",
            "варіанти відображення інформації , що підвищило рівень взаємодії на 20%.\n",
            " Співпрацював з фронтенд-розробниками для реалізації адаптивного дизаи ну\n",
            "для спортивної платформи, що покращило доступність для мобільних\n",
            "користувачів.\n",
            " Брав участь у регулярних переглядах дизаи ну, використовуючи відгуки від\n",
            "тренерів та користувачів для вдосконалення інтерфеи су спортивних додатків.\n",
            "UI/UX Дизайнер\n",
            "SmartTech Innovations\n",
            "Грудень 2018 - Січень 2019\n",
            "Як частина команди в SmartTech Innovations, я працював над розробкою інтерфеи сів\n",
            "для додатків з автоматизації офісних процесів та мобільного додатку для трекінгу\n",
            "фінансових витрат. Основним завданням було створення інтуї тивно зрозумілих\n",
            "рішень для автоматизації рутинних задач та зручного контролю за особистими\n",
            "фінансами.\n",
            " Розробляв каркаси та прототипи для додатку автоматизації завдань, що\n",
            "полегшило управління робочими процесами в офісі.\n",
            " Співпрацював зі стеи кхолдерами для створення інтуї тивного інтерфеи су для\n",
            "додатку з фінансового трекінгу, якии дозволяв користувачам швидко\n",
            "додавати та переглядати свої витрати.\n",
            " Проводив тестування зручності для обох додатків, отримуючи відгуки для\n",
            "вдосконалення функціональності та спрощення навігації .\n",
            " Тісно співпрацював з розробниками для реалізації адаптивного дизаи ну, що\n",
            "забезпечив коректне відображення на різних розмірах екранів.\n",
            "\n"
          ]
        }
      ]
    },
    {
      "cell_type": "markdown",
      "source": [
        "# Parse all resumes from the folder\n"
      ],
      "metadata": {
        "id": "QOnskjoiExXX"
      }
    },
    {
      "cell_type": "code",
      "source": [
        "def process_files_in_folder(folder_path):\n",
        "    resumes = []\n",
        "    for file_name in os.listdir(folder_path):\n",
        "        file_path = os.path.join(folder_path, file_name)\n",
        "        if file_name.endswith('.pdf'):\n",
        "            text = read_pdf(file_path)\n",
        "        elif file_name.endswith('.docx'):\n",
        "            text = read_docx(file_path)\n",
        "        elif file_name.endswith('.txt'):\n",
        "            text = read_txt(file_path)\n",
        "        else:\n",
        "            continue\n",
        "\n",
        "        resume_data = parse_resume(text)\n",
        "        if resume_data:\n",
        "            resumes.append(resume_data)\n",
        "\n",
        "    return resumes\n",
        "\n",
        "def write_to_json_file(data, output_file):\n",
        "    with open(output_file, 'w', encoding='utf-8') as file:\n",
        "        json.dump({\"resumes\": data}, file, ensure_ascii=False, indent=4)\n",
        "\n",
        "if __name__ == \"__main__\":\n",
        "    resumes_data = process_files_in_folder(folder_path)\n",
        "    output_file = \"output.json\"\n",
        "    write_to_json_file(resumes_data, output_file)\n",
        "    print(f\"Saved in {output_file}\")"
      ],
      "metadata": {
        "id": "VSM7siFzT8V_",
        "colab": {
          "base_uri": "https://localhost:8080/"
        },
        "outputId": "c2400a7d-66d0-4a57-b91c-80036ae566e8"
      },
      "execution_count": 17,
      "outputs": [
        {
          "output_type": "stream",
          "name": "stdout",
          "text": [
            "Saved in output.json\n"
          ]
        }
      ]
    },
    {
      "cell_type": "markdown",
      "source": [
        "# Made by\n",
        "[Vira Vakhovska](https://drive.google.com/file/d/1y9_qzcCZsySWdsOCmltedlA59ART2tr8/view?usp=sharing)"
      ],
      "metadata": {
        "id": "ZVm2qZ9cODRj"
      }
    }
  ]
}